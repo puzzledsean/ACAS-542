{
 "cells": [
  {
   "cell_type": "code",
   "execution_count": 6,
   "metadata": {
    "collapsed": false,
    "scrolled": true
   },
   "outputs": [],
   "source": [
    "# import\n",
    "# keep columns that are relevant\n",
    "\n",
    "import pandas as pd\n",
    "import numpy as np\n",
    "\n",
    "usecols=['time','icao24','lat','lon','velocity','heading','vertrate','onground','alert','baroaltitude','lastposupdate','lastcontact']\n",
    "df = pd.read_csv('states_2017-08-28-00.csv/states_2017-08-28-00.csv', usecols=usecols)\n",
    "df = df.sort_values(['icao24','time'])"
   ]
  },
  {
   "cell_type": "markdown",
   "metadata": {},
   "source": [
    "## Generates one big CSV file of NMAC data"
   ]
  },
  {
   "cell_type": "code",
   "execution_count": 89,
   "metadata": {
    "collapsed": false
   },
   "outputs": [],
   "source": [
    "import math\n",
    "import geopy\n",
    "import geopy.distance\n",
    "\n",
    "def compute_distance(point_1, point_2):\n",
    "    '''    \n",
    "    Parameters:\n",
    "        - point_1 -> list in order of [lat,long, alt]\n",
    "        - point_2 -> list in order of [lat,long, alt]\n",
    "        \n",
    "    Returns:\n",
    "        Distance between two points in km using geopy\n",
    "    '''    \n",
    "    p1 = geopy.point.Point(point_1)\n",
    "    p2 = geopy.point.Point(point_2)\n",
    "\n",
    "    return geopy.distance.vincenty(p1, p2).km"
   ]
  },
  {
   "cell_type": "code",
   "execution_count": null,
   "metadata": {
    "collapsed": false
   },
   "outputs": [
    {
     "name": "stdout",
     "output_type": "stream",
     "text": [
      "There are 559 unique potential NMAC icao planes\n",
      "Iterated through 0 icao planes so far...\n"
     ]
    }
   ],
   "source": [
    "# generating NMAC data\n",
    "def gen_NMAC():\n",
    "    # get rows that were in an NMAC\n",
    "    NMAC_icao = df[df['alert'] == True]\n",
    "    # get rows that were in an NMAC and have readily available data (i.e. remove rows with NaN for lat long etc)\n",
    "    cleaned_NMAC_icao = NMAC_icao.dropna()\n",
    "    unique_NMAC_icao = cleaned_NMAC_icao.icao24.unique()\n",
    "    \n",
    "\n",
    "    print('There are {} unique potential NMAC icao planes'.format(len(unique_NMAC_icao)))\n",
    "    count = 0\n",
    "    \n",
    "    # ultimate final NMAC csv dataframe\n",
    "    df_final = pd.DataFrame()\n",
    " \n",
    "    NMAC_id = 0\n",
    "    # for each unique icao\n",
    "    for name in unique_NMAC_icao:\n",
    "        # print stats\n",
    "        if count % 100 == 0:\n",
    "            print('Iterated through {} icao planes so far...'.format(count))\n",
    "        count += 1\n",
    "        # get rows where icao == name (boolean vector)\n",
    "        selector = cleaned_NMAC_icao['icao24'] == name\n",
    "        current_icao = cleaned_NMAC_icao[selector]\n",
    "\n",
    "        for second_name in unique_NMAC_icao:\n",
    "            second_selector = cleaned_NMAC_icao['icao24'] == second_name\n",
    "            second_icao = cleaned_NMAC_icao[second_selector]\n",
    "\n",
    "            if name == second_name:\n",
    "                continue\n",
    "\n",
    "            incremented_NMAC_id = False\n",
    "            for index, row in current_icao.iterrows():\n",
    "                for index2, row2 in second_icao.iterrows():\n",
    "                    lat_1 = row['lat']\n",
    "                    lon_1 = row['lon']\n",
    "                    alt_1 = row['baroaltitude']\n",
    "\n",
    "                    lat_2 = row2['lat']\n",
    "                    lon_2 = row2['lon']\n",
    "                    alt_2 = row2['baroaltitude']\n",
    "\n",
    "                    point_1 = [lat_1, lon_1, alt_1]\n",
    "                    point_2 = [lat_2, lon_2, alt_2]\n",
    "\n",
    "                    dist = compute_distance(point_1, point_2)\n",
    "\n",
    "                    if dist < 200 and row['time'] == row2['time']:\n",
    "                        if not incremented_NMAC_id:\n",
    "                            NMAC_id += 1\n",
    "                            incremented_NMAC_id = True\n",
    "                        \n",
    "                        NMAC_row = pd.DataFrame({\n",
    "                            'NMAC_id': [NMAC_id],\n",
    "                            'time_1': [row['time']], #first plane\n",
    "                            'icao24_1':[row['icao24']],\n",
    "                            'lat_1':[row['lat']],\n",
    "                            'lon_1':[row['lon']],\n",
    "                            'velocity_1':[row['velocity']],\n",
    "                            'heading_1':[row['heading']],\n",
    "                            'vertrate_1':[row['vertrate']],\n",
    "                            'onground_1':[row['onground']],\n",
    "                            'alert_1':[row['alert']],\n",
    "                            'baroaltitude_1':[row['baroaltitude']],\n",
    "                            'lastposupdate_1':[row['lastposupdate']],\n",
    "                            'lastcontact_1':[row['lastcontact']],\n",
    "                            'time_2': [row2['time']], #second plane\n",
    "                            'icao24_2':[row2['icao24']],\n",
    "                            'lat_2':[row2['lat']],\n",
    "                            'lon_2':[row2['lon']],\n",
    "                            'velocity_2':[row2['velocity']],\n",
    "                            'heading_2':[row2['heading']],\n",
    "                            'vertrate_2':[row2['vertrate']],\n",
    "                            'onground_2':[row2['onground']],\n",
    "                            'alert_2':[row2['alert']],\n",
    "                            'baroaltitude_2':[row2['baroaltitude']],\n",
    "                            'lastposupdate_2':[row2['lastposupdate']],\n",
    "                            'lastcontact_2':[row2['lastcontact']],\n",
    "                            })\n",
    "                        # add to data frame\n",
    "                        df_final = df_final.append(NMAC_row)\n",
    "\n",
    "    # write to csv file\n",
    "    df_final.to_csv(\"NMAC.csv\".format(name), index=False)\n",
    "    print('Saved files')\n",
    "\n",
    "gen_NMAC()"
   ]
  },
  {
   "cell_type": "markdown",
   "metadata": {},
   "source": [
    "## Old code that was used to generate CSVs of a flight path for each plane"
   ]
  },
  {
   "cell_type": "code",
   "execution_count": 7,
   "metadata": {
    "collapsed": false
   },
   "outputs": [],
   "source": [
    "# get unique icao (unique plane IDs)\n",
    "unique_icao = df.icao24.unique()\n",
    "# print(unique_icao, len(unique_icao))"
   ]
  },
  {
   "cell_type": "code",
   "execution_count": null,
   "metadata": {
    "collapsed": false
   },
   "outputs": [],
   "source": [
    "# generating CSVs for flight path data for each plane (might not be used)\n",
    "num_unique = len(unique_icao)\n",
    "\n",
    "csv_count = 0\n",
    "iteration = 0\n",
    "# for each unique icao, create CSV for it\n",
    "for name in unique_icao:\n",
    "    # print stats\n",
    "    if iteration % 500 == 0:\n",
    "        print('Iterated through {} icao names'.format(iteration))\n",
    "    iteration +=1\n",
    "    \n",
    "    # get rows where icao == name (boolean vector)\n",
    "    selector = df['icao24'] == name\n",
    "    \n",
    "    # Make sure columns have data, otherwise skip\n",
    "    if (df[selector].isnull().values.any()):\n",
    "        continue\n",
    "    \n",
    "    # print stats\n",
    "    if csv_count % 100 == 0:\n",
    "        print('Wrote {} csvs files'.format(csv_count))\n",
    "    csv_count += 1\n",
    "    \n",
    "    # write only rows to csv where the vector is true:\n",
    "    df[selector].to_csv(\"cleaned/{}.csv\".format(name), index=False)\n",
    "    \n",
    "print('Done')\n",
    "print('Saved {} csv files'.format(csv_count))"
   ]
  }
 ],
 "metadata": {
  "kernelspec": {
   "display_name": "Python 3",
   "language": "python",
   "name": "python3"
  }
 },
 "nbformat": 4,
 "nbformat_minor": 0
}
