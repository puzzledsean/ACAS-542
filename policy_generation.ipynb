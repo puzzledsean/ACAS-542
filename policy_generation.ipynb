{
 "cells": [
  {
   "cell_type": "markdown",
   "metadata": {},
   "source": [
    "# Policy generation"
   ]
  },
  {
   "cell_type": "code",
   "execution_count": 1,
   "metadata": {
    "collapsed": true
   },
   "outputs": [],
   "source": [
    "# Imports\n",
    "\n",
    "from __future__ import print_function\n",
    "\n",
    "import numpy as np\n",
    "\n",
    "import torch\n",
    "import torch.nn as nn\n",
    "from torch.autograd import Variable\n",
    "import torch.optim as optim\n",
    "\n",
    "import matplotlib\n",
    "matplotlib.use('Agg')\n",
    "import matplotlib.pyplot as plt\n",
    "from mpl_toolkits.mplot3d import Axes3D\n",
    "\n",
    "%matplotlib notebook\n",
    "\n",
    "import pandas as pd\n",
    "from torch.utils.data import Dataset, DataLoader\n",
    "from torchvision import transforms, utils"
   ]
  },
  {
   "cell_type": "markdown",
   "metadata": {},
   "source": [
    "## Hyperparameters"
   ]
  },
  {
   "cell_type": "code",
   "execution_count": 8,
   "metadata": {
    "collapsed": true
   },
   "outputs": [],
   "source": [
    "# Hyperparameters\n",
    "batch_size = 1000   # num of training examples to train on in a batch\n",
    "limit_timesteps = 15 # sequence length\n",
    "num_hidden_layers = 51\n",
    "state_dim = 3 # dimensions of the state variable passed as input to the LSTM model\n",
    "future = 10"
   ]
  },
  {
   "cell_type": "markdown",
   "metadata": {},
   "source": [
    "## Define and load PyTorch RNN Model"
   ]
  },
  {
   "cell_type": "code",
   "execution_count": 13,
   "metadata": {
    "collapsed": true
   },
   "outputs": [],
   "source": [
    "# Sequence model\n",
    "# model used to train RNN with PyTorch\n",
    "class Sequence(nn.Module):\n",
    "    def __init__(self, state_dim, num_hidden_layers):\n",
    "        super(Sequence, self).__init__()\n",
    "        self.lstm1 = nn.LSTMCell(state_dim, num_hidden_layers)\n",
    "        self.lstm2 = nn.LSTMCell(num_hidden_layers, num_hidden_layers)\n",
    "        self.linear = nn.Linear(num_hidden_layers, state_dim)\n",
    "\n",
    "    def forward(self, input, future = 0):\n",
    "        outputs = []\n",
    "        \n",
    "        h_t = Variable(torch.zeros(input.size(0), num_hidden_layers).double(), requires_grad=False)\n",
    "        c_t = Variable(torch.zeros(input.size(0), num_hidden_layers).double(), requires_grad=False)\n",
    "        h_t2 = Variable(torch.zeros(input.size(0), num_hidden_layers).double(), requires_grad=False)\n",
    "        c_t2 = Variable(torch.zeros(input.size(0), num_hidden_layers).double(), requires_grad=False)\n",
    "        \n",
    "        # run 19 times\n",
    "        # input_t.size = 5 x 5\n",
    "        for i, input_t in enumerate(input.chunk(input.size(1), dim=1)):\n",
    "            input_t = input_t.squeeze(1)\n",
    "            h_t, c_t = self.lstm1(input_t, (h_t, c_t))\n",
    "            h_t2, c_t2 = self.lstm2(h_t, (h_t2, c_t2))\n",
    "            output = self.linear(h_t2)\n",
    "            if (future == 0):\n",
    "                outputs += [output]\n",
    "        for i in range(future):# if we should predict the future\n",
    "            h_t, c_t = self.lstm1(output, (h_t, c_t))\n",
    "            h_t2, c_t2 = self.lstm2(h_t, (h_t2, c_t2))\n",
    "            output = self.linear(h_t2)\n",
    "            outputs += [output]\n",
    "        outputs = torch.stack(outputs, 1).squeeze(2)\n",
    "        print(outputs.size())\n",
    "        return outputs"
   ]
  },
  {
   "cell_type": "code",
   "execution_count": 6,
   "metadata": {},
   "outputs": [
    {
     "data": {
      "text/plain": [
       "Sequence (\n",
       "  (lstm1): LSTMCell(3, 51)\n",
       "  (lstm2): LSTMCell(51, 51)\n",
       "  (linear): Linear (51 -> 3)\n",
       ")"
      ]
     },
     "execution_count": 6,
     "metadata": {},
     "output_type": "execute_result"
    }
   ],
   "source": [
    "# Load model only\n",
    "seq = Sequence(state_dim, num_hidden_layers)\n",
    "params = torch.load('ACAS_theparameters.pt')\n",
    "seq.load_state_dict(params)\n",
    "seq.double()"
   ]
  },
  {
   "cell_type": "markdown",
   "metadata": {},
   "source": [
    "## The cells below are used for generating a policy for an NMAC"
   ]
  },
  {
   "cell_type": "markdown",
   "metadata": {},
   "source": [
    "### Helper functions\n",
    "\n",
    "Declaring constants and writing helper functions to detect NMACs"
   ]
  },
  {
   "cell_type": "code",
   "execution_count": 11,
   "metadata": {
    "collapsed": true
   },
   "outputs": [],
   "source": [
    "import math\n",
    "import geopy\n",
    "import geopy.distance\n",
    "\n",
    "def is_NMAC(point_1, point_2):\n",
    "    '''    \n",
    "    Parameters:\n",
    "        - point_1 -> list in order of [lat,long,alt]\n",
    "        - point_2 -> list in order of [lat,long,alt]\n",
    "    Returns:\n",
    "        Whether or not two planes are in an NMAC\n",
    "    \n",
    "    An NMAC between two planes in 3d space is specified by less than 200 ft (60.96m) of vertical separation\n",
    "    or less than 500 ft (152.4 m) of horizontal seperation.\n",
    "    '''    \n",
    "    p1 = geopy.point.Point(point_1)\n",
    "    p2 = geopy.point.Point(point_2)\n",
    "    \n",
    "    if (abs(point_1[2] - point_2[2]) <= 60.69\n",
    "           or geopy.distance.vincenty(p1, p2).m <= 152.4):\n",
    "        return True\n",
    "    \n",
    "    return False\n",
    "\n",
    "def unnormalize(path):\n",
    "    path *= np.load(\"model_stdevs.npy\")\n",
    "    path += np.load(\"model_means.npy\")\n",
    "    \n",
    "    return path\n",
    "    \n",
    "# constant variables\n",
    "future = 10\n",
    "ASCEND = 1500 / 60\n",
    "DESCEND = - 1500 / 60"
   ]
  },
  {
   "cell_type": "markdown",
   "metadata": {},
   "source": [
    "### Output policy"
   ]
  },
  {
   "cell_type": "markdown",
   "metadata": {},
   "source": [
    "Pseudocode in Python that we will convert into Julia to be run on simulator on VM.\n",
    "\n",
    "Takes input for both plane1 and plane 2, runs our LSTM model on the plane's data points, generates the future timesteps for both planes. Then outputs a policy/resolution advisory.\n",
    "\n",
    "Simple avoidance policy:\n",
    "- if both planes are in NMAC\n",
    "    - plane1 is above plane2\n",
    "        - plane2 descend\n",
    "    - plane2 is above or equivalent to plane1\n",
    "        - plane 2 ascend"
   ]
  },
  {
   "cell_type": "code",
   "execution_count": 12,
   "metadata": {},
   "outputs": [
    {
     "ename": "NameError",
     "evalue": "name 'plane1_input' is not defined",
     "output_type": "error",
     "traceback": [
      "\u001b[0;31m---------------------------------------------------------------------------\u001b[0m",
      "\u001b[0;31mNameError\u001b[0m                                 Traceback (most recent call last)",
      "\u001b[0;32m<ipython-input-12-2ea884f567f5>\u001b[0m in \u001b[0;36m<module>\u001b[0;34m()\u001b[0m\n\u001b[1;32m      5\u001b[0m \u001b[0;34m\u001b[0m\u001b[0m\n\u001b[1;32m      6\u001b[0m \u001b[0;31m# predict\u001b[0m\u001b[0;34m\u001b[0m\u001b[0;34m\u001b[0m\u001b[0m\n\u001b[0;32m----> 7\u001b[0;31m \u001b[0mtest_pred1\u001b[0m \u001b[0;34m=\u001b[0m \u001b[0mseq\u001b[0m\u001b[0;34m(\u001b[0m\u001b[0mplane1_input\u001b[0m\u001b[0;34m,\u001b[0m\u001b[0mfuture\u001b[0m\u001b[0;34m)\u001b[0m\u001b[0;34m.\u001b[0m\u001b[0mdata\u001b[0m\u001b[0;34m.\u001b[0m\u001b[0msqueeze\u001b[0m\u001b[0;34m(\u001b[0m\u001b[0;36m1\u001b[0m\u001b[0;34m)\u001b[0m\u001b[0;34m.\u001b[0m\u001b[0mnumpy\u001b[0m\u001b[0;34m(\u001b[0m\u001b[0;34m)\u001b[0m\u001b[0;34m\u001b[0m\u001b[0m\n\u001b[0m\u001b[1;32m      8\u001b[0m \u001b[0mtest_pred1_latlon\u001b[0m \u001b[0;34m=\u001b[0m \u001b[0mtest_pred1\u001b[0m\u001b[0;34m[\u001b[0m\u001b[0;34m:\u001b[0m\u001b[0;34m,\u001b[0m \u001b[0;34m:\u001b[0m\u001b[0;34m,\u001b[0m \u001b[0;34m-\u001b[0m\u001b[0;36m3\u001b[0m\u001b[0;34m:\u001b[0m\u001b[0;34m]\u001b[0m\u001b[0;34m\u001b[0m\u001b[0m\n\u001b[1;32m      9\u001b[0m \u001b[0;34m\u001b[0m\u001b[0m\n",
      "\u001b[0;31mNameError\u001b[0m: name 'plane1_input' is not defined"
     ]
    }
   ],
   "source": [
    "# assuming plane1_input is 10 previous timesteps including the current state \n",
    "\n",
    "# step 1.) clean input. drop irrelevant columns. format plane1_input to just be x_disp, y_disp, geoaltitude\n",
    "\n",
    "# step 2.) make a prediction for both plane's trajectory \n",
    "test_pred1 = seq(plane1_input,future).data.squeeze(1).numpy()\n",
    "test_pred1_latlon = test_pred1[:, :, -3:]\n",
    "\n",
    "test_pred2 = seq(plane2_input,future).data.squeeze(1).numpy()\n",
    "test_pred2_latlon = test_pred2[:, :, -3:]\n",
    "\n",
    "# format plane 1 predictions\n",
    "latlon = plane1_input.data.numpy()[:, -3:]\n",
    "latlon = np.insert(latlon, latlon.shape[0], test_pred1_latlon[0], axis=0)\n",
    "path1 = unnormalize(latlon.cumsum(axis=0)) # cumsum to stack displacements for further timesteps, and unnormalize data\n",
    "path1x, path1y, path1z = np.split(path1, 3, axis=1)\n",
    "path1z = path1z.flatten()\n",
    "\n",
    "# find corresponding last row of input data (last row of input data would be current spot of plane)\n",
    "plane1_currstate = plane1_input[-1]\n",
    "# add plane 1's current lat lon with its x and y displacement to get its next trajectory point\n",
    "path1x = path1x + plane1_currstate[0] # assuming 0 is lat column\n",
    "path1y = path1y + plane1_currstate[1] # assuming 1 is lon column\n",
    "\n",
    "# plotting for visualization\n",
    "fig = plt.figure()\n",
    "ax = fig.gca(projection='3d')\n",
    "ax.plot(path1x[0], path1y[0], path1z[0], 'b+')\n",
    "ax.plot(path1x[:-future], path1y[:-future], path1z[:-future], 'b.')\n",
    "for i in range(1,future+1):\n",
    "    plt.plot(path1x[-i], path1y[-i], path1z[-i], 'ro')\n",
    "\n",
    "    \n",
    "# repeat same process but for plane 2\n",
    "# format plane 2 predictions\n",
    "latlon = plane2_input.data.numpy()[:, -3:]\n",
    "latlon = np.insert(latlon, latlon.shape[0], test_pred2_latlon[0], axis=0)\n",
    "path2 = unnormalize(latlon.cumsum(axis=0)) # cumsum to stack displacements for further timesteps, and unnormalize data\n",
    "path2x, path2y, path2z = np.split(path2, 3, axis=1)\n",
    "path2z = path2z.flatten()\n",
    "\n",
    "# find corresponding last row of input data (last row of input data would be current spot of plane)\n",
    "plane2_currstate = plane2_input[-1]\n",
    "# add plane 2's current lat lon with its x and y displacement to get its next trajectory point\n",
    "path2x = path2x + plane2_currstate[0] # assuming 0 is lat column\n",
    "path2y = path2y + plane2_currstate[1] # assuming 1 is lon column\n",
    "\n",
    "# plotting for visualization\n",
    "fig = plt.figure()\n",
    "ax = fig.gca(projection='3d')\n",
    "ax.plot(path2x[0], path2y[0], path2z[0], 'b+')\n",
    "ax.plot(path2x[:-future], path2y[:-future], path2z[:-future], 'b.')\n",
    "for i in range(1,future+1):\n",
    "    plt.plot(path2x[-i], path2y[-i], path2z[-i], 'ro')\n",
    "plt.show()\n",
    "\n",
    "\n",
    "# predict NMAC and generate a policy for the 2 planes\n",
    "for i in range(1,future+1):\n",
    "    point_1 = [path1x[-i], path1y[-i], path1z[-i]]\n",
    "    point_2 = [path2x[-i], path2y[-i], path2z[-i]]\n",
    "    \n",
    "    if (is_NMAC(point_1, point_2)):\n",
    "        if (point1z[-i] > point2z[-i]):\n",
    "            resolution_advisory = ASCEND\n",
    "        else:\n",
    "            resolution_advisory = DESCEND\n",
    "\n",
    "return resolution_advisory\n",
    "            \n",
    "    "
   ]
  }
 ],
 "metadata": {
  "kernelspec": {
   "display_name": "Python 3",
   "language": "python",
   "name": "python3"
  },
  "language_info": {
   "codemirror_mode": {
    "name": "ipython",
    "version": 3
   },
   "file_extension": ".py",
   "mimetype": "text/x-python",
   "name": "python",
   "nbconvert_exporter": "python",
   "pygments_lexer": "ipython3",
   "version": "3.6.3"
  }
 },
 "nbformat": 4,
 "nbformat_minor": 2
}
