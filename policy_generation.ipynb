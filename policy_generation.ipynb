{
 "cells": [
  {
   "cell_type": "markdown",
   "metadata": {},
   "source": [
    "# Policy generation"
   ]
  },
  {
   "cell_type": "code",
   "execution_count": 1,
   "metadata": {
    "collapsed": true
   },
   "outputs": [],
   "source": [
    "# Imports\n",
    "\n",
    "from __future__ import print_function\n",
    "\n",
    "import numpy as np\n",
    "\n",
    "import torch\n",
    "import torch.nn as nn\n",
    "from torch.autograd import Variable\n",
    "import torch.optim as optim\n",
    "\n",
    "import matplotlib\n",
    "matplotlib.use('Agg')\n",
    "import matplotlib.pyplot as plt\n",
    "from mpl_toolkits.mplot3d import Axes3D\n",
    "\n",
    "%matplotlib notebook\n",
    "\n",
    "import pandas as pd\n",
    "from torch.utils.data import Dataset, DataLoader\n",
    "from torchvision import transforms, utils"
   ]
  },
  {
   "cell_type": "code",
   "execution_count": 4,
   "metadata": {
    "collapsed": true
   },
   "outputs": [],
   "source": [
    "# Hyperparameters\n",
    "batch_size = 1000   # num of training examples to train on in a batch\n",
    "limit_timesteps = 15 # sequence length\n",
    "num_hidden_layers = 51\n",
    "state_dim = 3 # dimensions of the state variable passed as input to the LSTM model\n",
    "future = 5"
   ]
  },
  {
   "cell_type": "code",
   "execution_count": 5,
   "metadata": {
    "collapsed": true
   },
   "outputs": [],
   "source": [
    "# Sequence model\n",
    "\n",
    "class Sequence(nn.Module):\n",
    "    def __init__(self, state_dim, num_hidden_layers):\n",
    "        super(Sequence, self).__init__()\n",
    "        self.lstm1 = nn.LSTMCell(state_dim, num_hidden_layers)\n",
    "        self.lstm2 = nn.LSTMCell(num_hidden_layers, num_hidden_layers)\n",
    "        self.linear = nn.Linear(num_hidden_layers, state_dim)\n",
    "\n",
    "    def forward(self, input, future = 0):\n",
    "        outputs = []\n",
    "        \n",
    "        h_t = Variable(torch.zeros(input.size(0), num_hidden_layers).double(), requires_grad=False)\n",
    "        c_t = Variable(torch.zeros(input.size(0), num_hidden_layers).double(), requires_grad=False)\n",
    "        h_t2 = Variable(torch.zeros(input.size(0), num_hidden_layers).double(), requires_grad=False)\n",
    "        c_t2 = Variable(torch.zeros(input.size(0), num_hidden_layers).double(), requires_grad=False)\n",
    "        \n",
    "        # run 19 times\n",
    "        # input_t.size = 5 x 5\n",
    "        for i, input_t in enumerate(input.chunk(input.size(1), dim=1)):\n",
    "            input_t = input_t.squeeze(1)\n",
    "            h_t, c_t = self.lstm1(input_t, (h_t, c_t))\n",
    "            h_t2, c_t2 = self.lstm2(h_t, (h_t2, c_t2))\n",
    "            output = self.linear(h_t2)\n",
    "            if (future == 0):\n",
    "                outputs += [output]\n",
    "        for i in range(future):# if we should predict the future\n",
    "            h_t, c_t = self.lstm1(output, (h_t, c_t))\n",
    "            h_t2, c_t2 = self.lstm2(h_t, (h_t2, c_t2))\n",
    "            output = self.linear(h_t2)\n",
    "            outputs += [output]\n",
    "        outputs = torch.stack(outputs, 1).squeeze(2)\n",
    "        print(outputs.size())\n",
    "        return outputs"
   ]
  },
  {
   "cell_type": "code",
   "execution_count": 6,
   "metadata": {},
   "outputs": [
    {
     "data": {
      "text/plain": [
       "Sequence (\n",
       "  (lstm1): LSTMCell(3, 51)\n",
       "  (lstm2): LSTMCell(51, 51)\n",
       "  (linear): Linear (51 -> 3)\n",
       ")"
      ]
     },
     "execution_count": 6,
     "metadata": {},
     "output_type": "execute_result"
    }
   ],
   "source": [
    "# Load model only\n",
    "seq = Sequence(state_dim, num_hidden_layers)\n",
    "params = torch.load('ACAS_theparameters.pt')\n",
    "seq.load_state_dict(params)\n",
    "seq.double()"
   ]
  },
  {
   "cell_type": "code",
   "execution_count": 7,
   "metadata": {},
   "outputs": [
    {
     "name": "stdout",
     "output_type": "stream",
     "text": [
      "0\n",
      "100\n",
      "200\n",
      "300\n",
      "400\n",
      "500\n",
      "600\n",
      "700\n",
      "800\n",
      "900\n",
      "1000\n"
     ]
    }
   ],
   "source": [
    "# load data and make training set\n",
    "data = pd.read_csv('cleaned/states_2017-08-28-00.csv')\n",
    "\n",
    "# # drop unneeded columns to form matrix to be trained on\n",
    "# data_matr = data.drop(['NMAC_id', 'alert_1', 'alert_2', 'onground_1', 'onground_2'], axis=1).as_matrix().astype('float')\n",
    "\n",
    "# restructure data\n",
    "all_planes = []\n",
    "\n",
    "count = 0\n",
    "unique_icao = data.icao24.unique()\n",
    "for i, name in enumerate(unique_icao):\n",
    "    if count % 100 == 0: print(count)\n",
    "    # only get batch size for now\n",
    "    if count >= batch_size:\n",
    "        break\n",
    "    \n",
    "    # get rows where icao == name (boolean vector)\n",
    "    selector = data['icao24'] == name\n",
    "    one_plane_df = data[selector]\n",
    "    \n",
    "    one_plane_df = one_plane_df.drop(['icao24','time','lat','lon','velocity','heading'], axis=1)\n",
    "    one_plane_arr = one_plane_df.as_matrix()\n",
    "    one_plane_arr = one_plane_arr[0:limit_timesteps]\n",
    "    \n",
    "    all_planes.append(one_plane_arr)\n",
    "    \n",
    "    count += 1\n",
    "\n",
    "batch = np.asarray(all_planes) # convert to np matrix"
   ]
  }
 ],
 "metadata": {
  "kernelspec": {
   "display_name": "Python 3",
   "language": "python",
   "name": "python3"
  },
  "language_info": {
   "codemirror_mode": {
    "name": "ipython",
    "version": 3
   },
   "file_extension": ".py",
   "mimetype": "text/x-python",
   "name": "python",
   "nbconvert_exporter": "python",
   "pygments_lexer": "ipython3",
   "version": "3.6.3"
  }
 },
 "nbformat": 4,
 "nbformat_minor": 2
}
